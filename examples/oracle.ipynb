{
 "cells": [
  {
   "cell_type": "code",
   "execution_count": 16,
   "metadata": {},
   "outputs": [],
   "source": [
    "import time as t\n",
    "import datetime as dt\n",
    "import pandas as pd\n",
    "import os\n",
    "import sys\n",
    "sys.path.insert(1, '../')\n",
    "from utils.common import *\n",
    "from utils.blockchain import *"
   ]
  },
  {
   "cell_type": "code",
   "execution_count": 17,
   "metadata": {},
   "outputs": [],
   "source": [
    "TAKE_PROFIT = 1\n",
    "STOP_LOSS = 1\n",
    "PRIORITY_FEE = 5000"
   ]
  },
  {
   "cell_type": "code",
   "execution_count": 25,
   "metadata": {},
   "outputs": [
    {
     "data": {
      "text/plain": [
       "datetime.datetime(2024, 4, 30, 23, 12, 59, tzinfo=datetime.timezone.utc)"
      ]
     },
     "execution_count": 25,
     "metadata": {},
     "output_type": "execute_result"
    }
   ],
   "source": [
    "dt.datetime.fromtimestamp(1714518779, tz=dt.timezone.utc)"
   ]
  },
  {
   "cell_type": "code",
   "execution_count": 26,
   "metadata": {},
   "outputs": [
    {
     "data": {
      "text/plain": [
       "datetime.datetime(2024, 4, 30, 23, 12, 59, tzinfo=datetime.timezone.utc)"
      ]
     },
     "execution_count": 26,
     "metadata": {},
     "output_type": "execute_result"
    }
   ],
   "source": [
    "dt.datetime.fromtimestamp(1714518779, tz=dt.timezone.utc)"
   ]
  },
  {
   "cell_type": "code",
   "execution_count": 29,
   "metadata": {},
   "outputs": [
    {
     "data": {
      "text/html": [
       "<div>\n",
       "<style scoped>\n",
       "    .dataframe tbody tr th:only-of-type {\n",
       "        vertical-align: middle;\n",
       "    }\n",
       "\n",
       "    .dataframe tbody tr th {\n",
       "        vertical-align: top;\n",
       "    }\n",
       "\n",
       "    .dataframe thead th {\n",
       "        text-align: right;\n",
       "    }\n",
       "</style>\n",
       "<table border=\"1\" class=\"dataframe\">\n",
       "  <thead>\n",
       "    <tr style=\"text-align: right;\">\n",
       "      <th></th>\n",
       "      <th>id</th>\n",
       "      <th>date</th>\n",
       "      <th>address</th>\n",
       "      <th>expected_launch_time</th>\n",
       "      <th>expected_launch_time_ts</th>\n",
       "      <th>s_mm2</th>\n",
       "      <th>s_ma2</th>\n",
       "      <th>s_fa2</th>\n",
       "      <th>s_q</th>\n",
       "      <th>s_sni</th>\n",
       "      <th>mcap_num</th>\n",
       "      <th>liq_num</th>\n",
       "      <th>launched</th>\n",
       "      <th>launch_time</th>\n",
       "      <th>buy</th>\n",
       "      <th>buy_time</th>\n",
       "      <th>buy_price</th>\n",
       "    </tr>\n",
       "  </thead>\n",
       "  <tbody>\n",
       "    <tr>\n",
       "      <th>0</th>\n",
       "      <td>231561</td>\n",
       "      <td>2024-05-01 00:11:19</td>\n",
       "      <td>GXFB8MkB3d7ryfdVACDegDYR27R7nkNVc8riNLbf2aRL</td>\n",
       "      <td>11 seconds ago</td>\n",
       "      <td>2024-05-01 00:11:08</td>\n",
       "      <td>1</td>\n",
       "      <td>1</td>\n",
       "      <td>0</td>\n",
       "      <td>0</td>\n",
       "      <td>3</td>\n",
       "      <td>12660</td>\n",
       "      <td>25320</td>\n",
       "      <td>1.0</td>\n",
       "      <td>2024-05-01 00:11:00+00:00</td>\n",
       "      <td>None</td>\n",
       "      <td>None</td>\n",
       "      <td>None</td>\n",
       "    </tr>\n",
       "    <tr>\n",
       "      <th>1</th>\n",
       "      <td>231562</td>\n",
       "      <td>2024-05-01 00:13:06</td>\n",
       "      <td>6U13s9V6J8cpU9EMvi1XgN2qxQg4NBn5hDzLeynCNZK9</td>\n",
       "      <td>7 seconds ago</td>\n",
       "      <td>2024-05-01 00:12:59</td>\n",
       "      <td>0</td>\n",
       "      <td>0</td>\n",
       "      <td>0</td>\n",
       "      <td>0</td>\n",
       "      <td>1</td>\n",
       "      <td>1440</td>\n",
       "      <td>2790</td>\n",
       "      <td>1.0</td>\n",
       "      <td>2024-05-01 00:13:00+00:00</td>\n",
       "      <td>None</td>\n",
       "      <td>None</td>\n",
       "      <td>None</td>\n",
       "    </tr>\n",
       "    <tr>\n",
       "      <th>2</th>\n",
       "      <td>231567</td>\n",
       "      <td>2024-05-01 00:19:57</td>\n",
       "      <td>7Mj8faMw52px3GkVYZj8pkez5BYu5ZyUKfdKs3gBzbuV</td>\n",
       "      <td>10 seconds ago</td>\n",
       "      <td>2024-05-01 00:19:47</td>\n",
       "      <td>0</td>\n",
       "      <td>0</td>\n",
       "      <td>0</td>\n",
       "      <td>0</td>\n",
       "      <td>2</td>\n",
       "      <td>564</td>\n",
       "      <td>1020</td>\n",
       "      <td>1.0</td>\n",
       "      <td>2024-05-01 00:19:00+00:00</td>\n",
       "      <td>None</td>\n",
       "      <td>None</td>\n",
       "      <td>None</td>\n",
       "    </tr>\n",
       "    <tr>\n",
       "      <th>3</th>\n",
       "      <td>231568</td>\n",
       "      <td>2024-05-01 00:20:27</td>\n",
       "      <td>DYZFhaR4PxtcwRtsQqXy4nBXdwK9uCHbkkxv2uHujocy</td>\n",
       "      <td>8 seconds ago</td>\n",
       "      <td>2024-05-01 00:20:19</td>\n",
       "      <td>0</td>\n",
       "      <td>0</td>\n",
       "      <td>0</td>\n",
       "      <td>2</td>\n",
       "      <td>0</td>\n",
       "      <td>12790</td>\n",
       "      <td>25330</td>\n",
       "      <td>1.0</td>\n",
       "      <td>2024-05-01 00:20:00+00:00</td>\n",
       "      <td>None</td>\n",
       "      <td>None</td>\n",
       "      <td>None</td>\n",
       "    </tr>\n",
       "    <tr>\n",
       "      <th>4</th>\n",
       "      <td>231569</td>\n",
       "      <td>2024-05-01 00:20:46</td>\n",
       "      <td>BA5G7y1D5K1bCxzWG6YaWe32fd6yLxWd89k9RT2dW5ys</td>\n",
       "      <td>In 8 minutes</td>\n",
       "      <td>2024-05-01 00:28:46</td>\n",
       "      <td>0</td>\n",
       "      <td>0</td>\n",
       "      <td>0</td>\n",
       "      <td>0</td>\n",
       "      <td>2</td>\n",
       "      <td>502</td>\n",
       "      <td>506</td>\n",
       "      <td>NaN</td>\n",
       "      <td>None</td>\n",
       "      <td>None</td>\n",
       "      <td>None</td>\n",
       "      <td>None</td>\n",
       "    </tr>\n",
       "    <tr>\n",
       "      <th>5</th>\n",
       "      <td>231573</td>\n",
       "      <td>2024-05-01 00:27:19</td>\n",
       "      <td>F4orxbDvyAjRHgt2q36frNvwbhb4nVQA2c9RbcgNNgjc</td>\n",
       "      <td>17 seconds ago</td>\n",
       "      <td>2024-05-01 00:27:02</td>\n",
       "      <td>1</td>\n",
       "      <td>0</td>\n",
       "      <td>0</td>\n",
       "      <td>1</td>\n",
       "      <td>2</td>\n",
       "      <td>504</td>\n",
       "      <td>1010</td>\n",
       "      <td>NaN</td>\n",
       "      <td>None</td>\n",
       "      <td>None</td>\n",
       "      <td>None</td>\n",
       "      <td>None</td>\n",
       "    </tr>\n",
       "  </tbody>\n",
       "</table>\n",
       "</div>"
      ],
      "text/plain": [
       "       id                 date                                       address   \n",
       "0  231561  2024-05-01 00:11:19  GXFB8MkB3d7ryfdVACDegDYR27R7nkNVc8riNLbf2aRL  \\\n",
       "1  231562  2024-05-01 00:13:06  6U13s9V6J8cpU9EMvi1XgN2qxQg4NBn5hDzLeynCNZK9   \n",
       "2  231567  2024-05-01 00:19:57  7Mj8faMw52px3GkVYZj8pkez5BYu5ZyUKfdKs3gBzbuV   \n",
       "3  231568  2024-05-01 00:20:27  DYZFhaR4PxtcwRtsQqXy4nBXdwK9uCHbkkxv2uHujocy   \n",
       "4  231569  2024-05-01 00:20:46  BA5G7y1D5K1bCxzWG6YaWe32fd6yLxWd89k9RT2dW5ys   \n",
       "5  231573  2024-05-01 00:27:19  F4orxbDvyAjRHgt2q36frNvwbhb4nVQA2c9RbcgNNgjc   \n",
       "\n",
       "  expected_launch_time expected_launch_time_ts  s_mm2  s_ma2  s_fa2  s_q   \n",
       "0       11 seconds ago     2024-05-01 00:11:08      1      1      0    0  \\\n",
       "1        7 seconds ago     2024-05-01 00:12:59      0      0      0    0   \n",
       "2       10 seconds ago     2024-05-01 00:19:47      0      0      0    0   \n",
       "3        8 seconds ago     2024-05-01 00:20:19      0      0      0    2   \n",
       "4         In 8 minutes     2024-05-01 00:28:46      0      0      0    0   \n",
       "5       17 seconds ago     2024-05-01 00:27:02      1      0      0    1   \n",
       "\n",
       "   s_sni  mcap_num  liq_num  launched                launch_time   buy   \n",
       "0      3     12660    25320       1.0  2024-05-01 00:11:00+00:00  None  \\\n",
       "1      1      1440     2790       1.0  2024-05-01 00:13:00+00:00  None   \n",
       "2      2       564     1020       1.0  2024-05-01 00:19:00+00:00  None   \n",
       "3      0     12790    25330       1.0  2024-05-01 00:20:00+00:00  None   \n",
       "4      2       502      506       NaN                       None  None   \n",
       "5      2       504     1010       NaN                       None  None   \n",
       "\n",
       "  buy_time buy_price  \n",
       "0     None      None  \n",
       "1     None      None  \n",
       "2     None      None  \n",
       "3     None      None  \n",
       "4     None      None  \n",
       "5     None      None  "
      ]
     },
     "execution_count": 29,
     "metadata": {},
     "output_type": "execute_result"
    }
   ],
   "source": [
    "with SQLiteDB('../dbs/calls.db') as conn:\n",
    "    query = \"SELECT *  FROM calls\"\n",
    "    db_tokens = pd.read_sql_query(query, conn)\n",
    "db_tokens"
   ]
  },
  {
   "cell_type": "code",
   "execution_count": 18,
   "metadata": {},
   "outputs": [],
   "source": [
    "tow = getSPLtokens(wallet)"
   ]
  },
  {
   "cell_type": "code",
   "execution_count": 19,
   "metadata": {},
   "outputs": [
    {
     "data": {
      "text/html": [
       "<div>\n",
       "<style scoped>\n",
       "    .dataframe tbody tr th:only-of-type {\n",
       "        vertical-align: middle;\n",
       "    }\n",
       "\n",
       "    .dataframe tbody tr th {\n",
       "        vertical-align: top;\n",
       "    }\n",
       "\n",
       "    .dataframe thead th {\n",
       "        text-align: right;\n",
       "    }\n",
       "</style>\n",
       "<table border=\"1\" class=\"dataframe\">\n",
       "  <thead>\n",
       "    <tr style=\"text-align: right;\">\n",
       "      <th></th>\n",
       "      <th>pubkey</th>\n",
       "      <th>account</th>\n",
       "      <th>token_address</th>\n",
       "      <th>decimals</th>\n",
       "      <th>amount</th>\n",
       "      <th>amount_int</th>\n",
       "    </tr>\n",
       "  </thead>\n",
       "  <tbody>\n",
       "    <tr>\n",
       "      <th>0</th>\n",
       "      <td>9bTDu83hE37NSCvkNrXfCyNLHzQc7rV8XF7KyqqzaUQ8</td>\n",
       "      <td>{'lamports': 2039280, 'data': {'program': 'spl...</td>\n",
       "      <td>EPjFWdd5AufqSSqeM2qN1xzybapC8G4wEGGkZwyTDt1v</td>\n",
       "      <td>6</td>\n",
       "      <td>19820014</td>\n",
       "      <td>19.820014</td>\n",
       "    </tr>\n",
       "    <tr>\n",
       "      <th>1</th>\n",
       "      <td>5qRpRknfKus1qiNL1iQU92atWtktTsnBMoHppLfMzinP</td>\n",
       "      <td>{'lamports': 2039280, 'data': {'program': 'spl...</td>\n",
       "      <td>AZwF5h6uKHxp8ta27ba4t3S5LQ9JdwHmkeae22ACDgqy</td>\n",
       "      <td>9</td>\n",
       "      <td>5938092146082</td>\n",
       "      <td>5938.092146</td>\n",
       "    </tr>\n",
       "    <tr>\n",
       "      <th>2</th>\n",
       "      <td>7izYUZtuGMoXCC8Wx2uHpX8Ui4png7X6S64WnLs36nFQ</td>\n",
       "      <td>{'lamports': 2039280, 'data': {'program': 'spl...</td>\n",
       "      <td>8AntP7Hxft8Yjr52UQ3RnBHU4njTkDFDho97gE4vRzkt</td>\n",
       "      <td>9</td>\n",
       "      <td>902936636325</td>\n",
       "      <td>902.936636</td>\n",
       "    </tr>\n",
       "  </tbody>\n",
       "</table>\n",
       "</div>"
      ],
      "text/plain": [
       "                                         pubkey   \n",
       "0  9bTDu83hE37NSCvkNrXfCyNLHzQc7rV8XF7KyqqzaUQ8  \\\n",
       "1  5qRpRknfKus1qiNL1iQU92atWtktTsnBMoHppLfMzinP   \n",
       "2  7izYUZtuGMoXCC8Wx2uHpX8Ui4png7X6S64WnLs36nFQ   \n",
       "\n",
       "                                             account   \n",
       "0  {'lamports': 2039280, 'data': {'program': 'spl...  \\\n",
       "1  {'lamports': 2039280, 'data': {'program': 'spl...   \n",
       "2  {'lamports': 2039280, 'data': {'program': 'spl...   \n",
       "\n",
       "                                  token_address  decimals         amount   \n",
       "0  EPjFWdd5AufqSSqeM2qN1xzybapC8G4wEGGkZwyTDt1v         6       19820014  \\\n",
       "1  AZwF5h6uKHxp8ta27ba4t3S5LQ9JdwHmkeae22ACDgqy         9  5938092146082   \n",
       "2  8AntP7Hxft8Yjr52UQ3RnBHU4njTkDFDho97gE4vRzkt         9   902936636325   \n",
       "\n",
       "    amount_int  \n",
       "0    19.820014  \n",
       "1  5938.092146  \n",
       "2   902.936636  "
      ]
     },
     "execution_count": 19,
     "metadata": {},
     "output_type": "execute_result"
    }
   ],
   "source": [
    "tow"
   ]
  },
  {
   "cell_type": "code",
   "execution_count": 20,
   "metadata": {},
   "outputs": [],
   "source": [
    "tracked_tokens = pd.merge(\n",
    "    tow,\n",
    "    db_tokens[['address','buy_price']],\n",
    "    how='inner', left_on='token_address', right_on='address'\n",
    ")\n",
    "cur_prices = check_multi_price(tracked_tokens['token_address'].to_list())\n",
    "cur_prices = pd.DataFrame().from_dict(cur_prices,orient='index')\n",
    "cur_prices = cur_prices.reset_index().rename(columns={'index':'address'})\n",
    "tracked_tokens = pd.merge(tracked_tokens, cur_prices, how='inner', on='address')\n",
    "tracked_tokens['liq_req'] = tracked_tokens['amount_int']*tracked_tokens['price']\n",
    "tracked_tokens['price_change'] = tracked_tokens['price']/tracked_tokens['buy_price']\n",
    "tracked_tokens['sell_tag'] = np.where((tracked_tokens['liq_req'] < tracked_tokens['liquidity']) &\n",
    "                                      ((tracked_tokens['price_change']>=TAKE_PROFIT) |\n",
    "                                       (tracked_tokens['price_change']<-STOP_LOSS)), True, False)"
   ]
  },
  {
   "cell_type": "code",
   "execution_count": 25,
   "metadata": {},
   "outputs": [
    {
     "name": "stdout",
     "output_type": "stream",
     "text": [
      "                                        address  price_change\n",
      "0  AZwF5h6uKHxp8ta27ba4t3S5LQ9JdwHmkeae22ACDgqy      0.994101\n"
     ]
    }
   ],
   "source": [
    "print(tracked_tokens[['address','price_change']])"
   ]
  },
  {
   "cell_type": "code",
   "execution_count": 11,
   "metadata": {},
   "outputs": [
    {
     "name": "stdout",
     "output_type": "stream",
     "text": [
      "2024-04-28 19:35:57.484823 Attempt to SELL:  0 AZwF5h6uKHxp8ta27ba4t3S5LQ9JdwHmkeae22ACDgqy\n",
      "attempt to sell 101191.563343478 of AZwF5h6uKHxp8ta27ba4t3S5LQ9JdwHmkeae22ACDgqy\n",
      "Success Quote!\n",
      "fee will be:  5000\n",
      "Success Txgen!\n",
      "Success sign!\n"
     ]
    },
    {
     "ename": "RuntimeError",
     "evalue": "asyncio.run() cannot be called from a running event loop",
     "output_type": "error",
     "traceback": [
      "\u001b[0;31m---------------------------------------------------------------------------\u001b[0m",
      "\u001b[0;31mRuntimeError\u001b[0m                              Traceback (most recent call last)",
      "Cell \u001b[0;32mIn[11], line 3\u001b[0m\n\u001b[1;32m      1\u001b[0m \u001b[38;5;28;01mfor\u001b[39;00m i, row \u001b[38;5;129;01min\u001b[39;00m tracked_tokens[tracked_tokens[\u001b[38;5;124m'\u001b[39m\u001b[38;5;124msell_tag\u001b[39m\u001b[38;5;124m'\u001b[39m]\u001b[38;5;241m==\u001b[39m\u001b[38;5;28;01mTrue\u001b[39;00m]\u001b[38;5;241m.\u001b[39miterrows():\n\u001b[1;32m      2\u001b[0m     \u001b[38;5;28mprint\u001b[39m(dt\u001b[38;5;241m.\u001b[39mdatetime\u001b[38;5;241m.\u001b[39mnow(), \u001b[38;5;124m'\u001b[39m\u001b[38;5;124mAttempt to SELL: \u001b[39m\u001b[38;5;124m'\u001b[39m, i, row[\u001b[38;5;124m'\u001b[39m\u001b[38;5;124maddress\u001b[39m\u001b[38;5;124m'\u001b[39m])\n\u001b[0;32m----> 3\u001b[0m     result, txid \u001b[38;5;241m=\u001b[39m \u001b[43mtx_procedure\u001b[49m\u001b[43m(\u001b[49m\u001b[43mwallet\u001b[49m\u001b[38;5;241;43m=\u001b[39;49m\u001b[43mwallet\u001b[49m\u001b[43m,\u001b[49m\u001b[43m \u001b[49m\u001b[43masset_in\u001b[49m\u001b[38;5;241;43m=\u001b[39;49m\u001b[43mrow\u001b[49m\u001b[43m[\u001b[49m\u001b[38;5;124;43m'\u001b[39;49m\u001b[38;5;124;43maddress\u001b[39;49m\u001b[38;5;124;43m'\u001b[39;49m\u001b[43m]\u001b[49m\u001b[43m,\u001b[49m\u001b[43m \u001b[49m\u001b[43masset_out\u001b[49m\u001b[38;5;241;43m=\u001b[39;49m\u001b[43mSOL_ca\u001b[49m\u001b[43m,\u001b[49m\n\u001b[1;32m      4\u001b[0m \u001b[43m                                \u001b[49m\u001b[43mmode\u001b[49m\u001b[38;5;241;43m=\u001b[39;49m\u001b[38;5;124;43m'\u001b[39;49m\u001b[38;5;124;43msell\u001b[39;49m\u001b[38;5;124;43m'\u001b[39;49m\u001b[43m,\u001b[49m\u001b[43m \u001b[49m\u001b[43mfee\u001b[49m\u001b[38;5;241;43m=\u001b[39;49m\u001b[43mPRIORITY_FEE\u001b[49m\u001b[43m)\u001b[49m\n\u001b[1;32m      5\u001b[0m     \u001b[38;5;28mprint\u001b[39m(\u001b[38;5;124m'\u001b[39m\u001b[38;5;124mResult: \u001b[39m\u001b[38;5;124m'\u001b[39m, result)\n\u001b[1;32m      6\u001b[0m     \u001b[38;5;28;01mif\u001b[39;00m result \u001b[38;5;241m==\u001b[39m {\u001b[38;5;124m'\u001b[39m\u001b[38;5;124mOk\u001b[39m\u001b[38;5;124m'\u001b[39m: \u001b[38;5;28;01mNone\u001b[39;00m}:\n",
      "File \u001b[0;32m~/Projects/solsnipebot/sc-sniper/examples/../utils/blockchain.py:259\u001b[0m, in \u001b[0;36mtx_procedure\u001b[0;34m(wallet, asset_in, asset_out, amount, mode, fee)\u001b[0m\n\u001b[1;32m    257\u001b[0m send_response \u001b[38;5;241m=\u001b[39m sendTransaction(tx_object[\u001b[38;5;124m'\u001b[39m\u001b[38;5;124msigned_tx\u001b[39m\u001b[38;5;124m'\u001b[39m])\n\u001b[1;32m    258\u001b[0m tx_object[\u001b[38;5;124m'\u001b[39m\u001b[38;5;124mtxid\u001b[39m\u001b[38;5;124m'\u001b[39m] \u001b[38;5;241m=\u001b[39m send_response\u001b[38;5;241m.\u001b[39mvalue\n\u001b[0;32m--> 259\u001b[0m result \u001b[38;5;241m=\u001b[39m \u001b[43masyncio\u001b[49m\u001b[38;5;241;43m.\u001b[39;49m\u001b[43mrun\u001b[49m\u001b[43m(\u001b[49m\u001b[43mtxsender\u001b[49m\u001b[43m(\u001b[49m\u001b[43mtx_object\u001b[49m\u001b[43m)\u001b[49m\u001b[43m)\u001b[49m\n\u001b[1;32m    260\u001b[0m \u001b[38;5;28;01mreturn\u001b[39;00m result, tx_object[\u001b[38;5;124m'\u001b[39m\u001b[38;5;124mtxid\u001b[39m\u001b[38;5;124m'\u001b[39m]\n",
      "File \u001b[0;32m/opt/homebrew/Cellar/python@3.10/3.10.13_2/Frameworks/Python.framework/Versions/3.10/lib/python3.10/asyncio/runners.py:33\u001b[0m, in \u001b[0;36mrun\u001b[0;34m(main, debug)\u001b[0m\n\u001b[1;32m      9\u001b[0m \u001b[38;5;250m\u001b[39m\u001b[38;5;124;03m\"\"\"Execute the coroutine and return the result.\u001b[39;00m\n\u001b[1;32m     10\u001b[0m \n\u001b[1;32m     11\u001b[0m \u001b[38;5;124;03mThis function runs the passed coroutine, taking care of\u001b[39;00m\n\u001b[0;32m   (...)\u001b[0m\n\u001b[1;32m     30\u001b[0m \u001b[38;5;124;03m    asyncio.run(main())\u001b[39;00m\n\u001b[1;32m     31\u001b[0m \u001b[38;5;124;03m\"\"\"\u001b[39;00m\n\u001b[1;32m     32\u001b[0m \u001b[38;5;28;01mif\u001b[39;00m events\u001b[38;5;241m.\u001b[39m_get_running_loop() \u001b[38;5;129;01mis\u001b[39;00m \u001b[38;5;129;01mnot\u001b[39;00m \u001b[38;5;28;01mNone\u001b[39;00m:\n\u001b[0;32m---> 33\u001b[0m     \u001b[38;5;28;01mraise\u001b[39;00m \u001b[38;5;167;01mRuntimeError\u001b[39;00m(\n\u001b[1;32m     34\u001b[0m         \u001b[38;5;124m\"\u001b[39m\u001b[38;5;124masyncio.run() cannot be called from a running event loop\u001b[39m\u001b[38;5;124m\"\u001b[39m)\n\u001b[1;32m     36\u001b[0m \u001b[38;5;28;01mif\u001b[39;00m \u001b[38;5;129;01mnot\u001b[39;00m coroutines\u001b[38;5;241m.\u001b[39miscoroutine(main):\n\u001b[1;32m     37\u001b[0m     \u001b[38;5;28;01mraise\u001b[39;00m \u001b[38;5;167;01mValueError\u001b[39;00m(\u001b[38;5;124m\"\u001b[39m\u001b[38;5;124ma coroutine was expected, got \u001b[39m\u001b[38;5;132;01m{!r}\u001b[39;00m\u001b[38;5;124m\"\u001b[39m\u001b[38;5;241m.\u001b[39mformat(main))\n",
      "\u001b[0;31mRuntimeError\u001b[0m: asyncio.run() cannot be called from a running event loop"
     ]
    }
   ],
   "source": [
    "for i, row in tracked_tokens[tracked_tokens['sell_tag']==True].iterrows():\n",
    "    print(dt.datetime.now(), 'Attempt to SELL: ', i, row['address'], '. X:', row['price_change'])\n",
    "    result, txid = tx_procedure(wallet=wallet, asset_in=row['address'], asset_out=SOL_ca,\n",
    "                                mode='sell', fee=PRIORITY_FEE)\n",
    "    print('Result: ', result)\n",
    "    if result == {'Ok': None}:\n",
    "        print('SUCCESS BUY')\n",
    "        ## UPDATE TO DB\n",
    "        with SQLiteDB('dbs/calls.db') as conn:\n",
    "            update_statement = f\"\"\"\n",
    "            UPDATE calls\n",
    "            SET buy = {False},\n",
    "            WHERE address = \"{row['address']}\"\n",
    "            \"\"\"\n",
    "            conn.execute(update_statement)\n",
    "        print('DB updated with sell data!')"
   ]
  }
 ],
 "metadata": {
  "kernelspec": {
   "display_name": ".venv",
   "language": "python",
   "name": "python3"
  },
  "language_info": {
   "codemirror_mode": {
    "name": "ipython",
    "version": 3
   },
   "file_extension": ".py",
   "mimetype": "text/x-python",
   "name": "python",
   "nbconvert_exporter": "python",
   "pygments_lexer": "ipython3",
   "version": "3.10.13"
  }
 },
 "nbformat": 4,
 "nbformat_minor": 2
}
