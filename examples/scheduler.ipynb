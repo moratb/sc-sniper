{
 "cells": [
  {
   "cell_type": "code",
   "execution_count": 1,
   "metadata": {},
   "outputs": [],
   "source": [
    "import time as t\n",
    "import datetime as dt\n",
    "import pandas as pd\n",
    "import requests\n",
    "import numpy as np\n",
    "from dotenv import load_dotenv\n",
    "import os\n",
    "import sys\n",
    "sys.path.insert(1, '../')\n",
    "from utils.common import *\n",
    "\n",
    "\n",
    "load_dotenv('../.env')\n",
    "apikey = os.getenv('bi_api_key')\n",
    "\n",
    "\n",
    "@retry(max_attempts=10, retry_delay=1)\n",
    "def get_price_data(apikey, token, time_from, time_to):\n",
    "    url = \"https://public-api.birdeye.so/defi/ohlcv\"\n",
    "    headers = {\"x-chain\": \"solana\", \"X-API-KEY\": apikey}\n",
    "    params = {\n",
    "        \"address\": token,\n",
    "        \"type\": '1m',\n",
    "        \"time_from\": time_from,\n",
    "        \"time_to\": time_to\n",
    "    }\n",
    "    response = requests.get(url, headers=headers, params=params)\n",
    "    prices_df = pd.DataFrame(response.json()['data']['items'])\n",
    "    prices_df['address'] = token\n",
    "    return prices_df"
   ]
  },
  {
   "cell_type": "code",
   "execution_count": 2,
   "metadata": {},
   "outputs": [
    {
     "data": {
      "text/html": [
       "<div>\n",
       "<style scoped>\n",
       "    .dataframe tbody tr th:only-of-type {\n",
       "        vertical-align: middle;\n",
       "    }\n",
       "\n",
       "    .dataframe tbody tr th {\n",
       "        vertical-align: top;\n",
       "    }\n",
       "\n",
       "    .dataframe thead th {\n",
       "        text-align: right;\n",
       "    }\n",
       "</style>\n",
       "<table border=\"1\" class=\"dataframe\">\n",
       "  <thead>\n",
       "    <tr style=\"text-align: right;\">\n",
       "      <th></th>\n",
       "      <th>id</th>\n",
       "      <th>date</th>\n",
       "      <th>address</th>\n",
       "      <th>expected_launch_time</th>\n",
       "      <th>expected_launch_time_ts</th>\n",
       "      <th>s_mm2</th>\n",
       "      <th>s_ma2</th>\n",
       "      <th>s_fa2</th>\n",
       "      <th>s_q</th>\n",
       "      <th>s_sni</th>\n",
       "      <th>mcap_num</th>\n",
       "      <th>liq_num</th>\n",
       "      <th>launched</th>\n",
       "      <th>launch_time</th>\n",
       "      <th>buy</th>\n",
       "      <th>buy_time</th>\n",
       "      <th>buy_price</th>\n",
       "    </tr>\n",
       "  </thead>\n",
       "  <tbody>\n",
       "    <tr>\n",
       "      <th>0</th>\n",
       "      <td>215618</td>\n",
       "      <td>2024-04-18 14:35:57</td>\n",
       "      <td>CfQSSRk6Md2cnZCzkJu2QjAVua5FzGMCua7CrhQGRURK</td>\n",
       "      <td>In 1 minute</td>\n",
       "      <td>2024-04-18 14:36:57</td>\n",
       "      <td>0</td>\n",
       "      <td>0</td>\n",
       "      <td>0</td>\n",
       "      <td>2</td>\n",
       "      <td>0</td>\n",
       "      <td>9050</td>\n",
       "      <td>18110</td>\n",
       "      <td>1</td>\n",
       "      <td>2024-04-18 21:37:00</td>\n",
       "      <td>None</td>\n",
       "      <td>None</td>\n",
       "      <td>None</td>\n",
       "    </tr>\n",
       "    <tr>\n",
       "      <th>1</th>\n",
       "      <td>215619</td>\n",
       "      <td>2024-04-18 14:37:11</td>\n",
       "      <td>GKMRt3xZznGK4wxoBw3SZfMTwVR9LLFTJxbqMCUvMabg</td>\n",
       "      <td>11 seconds ago</td>\n",
       "      <td>2024-04-18 14:37:00</td>\n",
       "      <td>1</td>\n",
       "      <td>0</td>\n",
       "      <td>0</td>\n",
       "      <td>0</td>\n",
       "      <td>2</td>\n",
       "      <td>1390</td>\n",
       "      <td>2500</td>\n",
       "      <td>1</td>\n",
       "      <td>2024-04-18 21:37:00</td>\n",
       "      <td>None</td>\n",
       "      <td>None</td>\n",
       "      <td>None</td>\n",
       "    </tr>\n",
       "    <tr>\n",
       "      <th>2</th>\n",
       "      <td>215620</td>\n",
       "      <td>2024-04-18 14:37:58</td>\n",
       "      <td>66Yp2kKFLsEjszAMVttwHFDZRZRyGt9kbKoXnuv99Dx3</td>\n",
       "      <td>36 seconds ago</td>\n",
       "      <td>2024-04-18 14:37:22</td>\n",
       "      <td>1</td>\n",
       "      <td>0</td>\n",
       "      <td>0</td>\n",
       "      <td>0</td>\n",
       "      <td>4</td>\n",
       "      <td>1730</td>\n",
       "      <td>1390</td>\n",
       "      <td>1</td>\n",
       "      <td>2024-04-18 21:42:00</td>\n",
       "      <td>None</td>\n",
       "      <td>None</td>\n",
       "      <td>None</td>\n",
       "    </tr>\n",
       "    <tr>\n",
       "      <th>3</th>\n",
       "      <td>215621</td>\n",
       "      <td>2024-04-18 14:38:20</td>\n",
       "      <td>Ecz4mak5jScXrwZkMGJB3mqqpeuJPWPTddJW6Rgmt9Za</td>\n",
       "      <td>27 seconds ago</td>\n",
       "      <td>2024-04-18 14:37:53</td>\n",
       "      <td>0</td>\n",
       "      <td>0</td>\n",
       "      <td>0</td>\n",
       "      <td>0</td>\n",
       "      <td>2</td>\n",
       "      <td>1110</td>\n",
       "      <td>1110</td>\n",
       "      <td>1</td>\n",
       "      <td>2024-04-18 21:38:00</td>\n",
       "      <td>None</td>\n",
       "      <td>None</td>\n",
       "      <td>None</td>\n",
       "    </tr>\n",
       "    <tr>\n",
       "      <th>4</th>\n",
       "      <td>215622</td>\n",
       "      <td>2024-04-18 14:39:15</td>\n",
       "      <td>BdSSmAmWAE8F2yhjAPW91Boa4fQfu98EKt3xxgLKQVxn</td>\n",
       "      <td>36 seconds ago</td>\n",
       "      <td>2024-04-18 14:38:39</td>\n",
       "      <td>1</td>\n",
       "      <td>1</td>\n",
       "      <td>0</td>\n",
       "      <td>0</td>\n",
       "      <td>2</td>\n",
       "      <td>40230</td>\n",
       "      <td>80460</td>\n",
       "      <td>1</td>\n",
       "      <td>2024-04-18 21:39:00</td>\n",
       "      <td>None</td>\n",
       "      <td>None</td>\n",
       "      <td>None</td>\n",
       "    </tr>\n",
       "  </tbody>\n",
       "</table>\n",
       "</div>"
      ],
      "text/plain": [
       "       id                 date                                       address   \n",
       "0  215618  2024-04-18 14:35:57  CfQSSRk6Md2cnZCzkJu2QjAVua5FzGMCua7CrhQGRURK  \\\n",
       "1  215619  2024-04-18 14:37:11  GKMRt3xZznGK4wxoBw3SZfMTwVR9LLFTJxbqMCUvMabg   \n",
       "2  215620  2024-04-18 14:37:58  66Yp2kKFLsEjszAMVttwHFDZRZRyGt9kbKoXnuv99Dx3   \n",
       "3  215621  2024-04-18 14:38:20  Ecz4mak5jScXrwZkMGJB3mqqpeuJPWPTddJW6Rgmt9Za   \n",
       "4  215622  2024-04-18 14:39:15  BdSSmAmWAE8F2yhjAPW91Boa4fQfu98EKt3xxgLKQVxn   \n",
       "\n",
       "  expected_launch_time expected_launch_time_ts  s_mm2  s_ma2  s_fa2  s_q   \n",
       "0          In 1 minute     2024-04-18 14:36:57      0      0      0    2  \\\n",
       "1       11 seconds ago     2024-04-18 14:37:00      1      0      0    0   \n",
       "2       36 seconds ago     2024-04-18 14:37:22      1      0      0    0   \n",
       "3       27 seconds ago     2024-04-18 14:37:53      0      0      0    0   \n",
       "4       36 seconds ago     2024-04-18 14:38:39      1      1      0    0   \n",
       "\n",
       "   s_sni  mcap_num  liq_num  launched          launch_time   buy buy_time   \n",
       "0      0      9050    18110         1  2024-04-18 21:37:00  None     None  \\\n",
       "1      2      1390     2500         1  2024-04-18 21:37:00  None     None   \n",
       "2      4      1730     1390         1  2024-04-18 21:42:00  None     None   \n",
       "3      2      1110     1110         1  2024-04-18 21:38:00  None     None   \n",
       "4      2     40230    80460         1  2024-04-18 21:39:00  None     None   \n",
       "\n",
       "  buy_price  \n",
       "0      None  \n",
       "1      None  \n",
       "2      None  \n",
       "3      None  \n",
       "4      None  "
      ]
     },
     "execution_count": 2,
     "metadata": {},
     "output_type": "execute_result"
    }
   ],
   "source": [
    "with SQLiteDB('../dbs/calls.db') as conn:\n",
    "    query = \"SELECT * FROM calls \"  #WHERE launched is NULL\n",
    "    df = pd.read_sql_query(query, conn)\n",
    "    df = df.loc[dt.datetime.now() > pd.to_datetime(df['expected_launch_time_ts']) + dt.timedelta(minutes=1)]\n",
    "df"
   ]
  },
  {
   "cell_type": "code",
   "execution_count": 3,
   "metadata": {},
   "outputs": [],
   "source": [
    "def update_launch_date(index, status, time):\n",
    "    ltime = f'\"{time}\"' if time else \"NULL\"\n",
    "    with SQLiteDB('../dbs/calls.db') as conn:\n",
    "        update_statement = f\"\"\"\n",
    "        UPDATE calls\n",
    "        SET launched = {status}, launch_time = {ltime}\n",
    "        WHERE id = {index}\n",
    "        \"\"\"\n",
    "        #print(update_statement)\n",
    "        conn.execute(update_statement)"
   ]
  },
  {
   "cell_type": "code",
   "execution_count": 4,
   "metadata": {},
   "outputs": [
    {
     "name": "stdout",
     "output_type": "stream",
     "text": [
      "trying:  0 CfQSSRk6Md2cnZCzkJu2QjAVua5FzGMCua7CrhQGRURK\n"
     ]
    }
   ],
   "source": [
    "for i,row in df[:1].iterrows():\n",
    "    print('trying: ',i, row['address'])\n",
    "    elt = int(dt.datetime.strptime(row['expected_launch_time_ts'],'%Y-%m-%d %H:%M:%S').timestamp())\n",
    "    tmp_df = get_price_data(apikey, row['address'], elt - 60*60, elt + 60*60*25)\n",
    "    if not tmp_df.empty:\n",
    "        launched = True\n",
    "        launch_time = dt.datetime.fromtimestamp(tmp_df['unixTime'].min())\n",
    "    else:\n",
    "        launched = True\n",
    "        launch_time = None\n",
    "    update_launch_date(row['id'], launched, launch_time)"
   ]
  },
  {
   "cell_type": "code",
   "execution_count": 10,
   "metadata": {},
   "outputs": [],
   "source": [
    "from apscheduler.schedulers.background import BackgroundScheduler\n",
    "from apscheduler.jobstores.sqlalchemy import SQLAlchemyJobStore\n",
    "jobstores = {\n",
    "    'default': SQLAlchemyJobStore(url='sqlite:///../dbs/jobs.sqlite')\n",
    "}\n",
    "scheduler = BackgroundScheduler(jobstores=jobstores)"
   ]
  },
  {
   "cell_type": "code",
   "execution_count": 11,
   "metadata": {},
   "outputs": [],
   "source": [
    "def core_task():\n",
    "    a = 1\n",
    "    b = 2\n",
    "    res = a+b\n",
    "    #test = get_price_data(apikey, row['address'], int(launch_time.timestamp()), int((launch_time + dt.timedelta(minutes=20)).timestamp()))\n",
    "    print(\"Task executed. Result: \", res)"
   ]
  },
  {
   "cell_type": "code",
   "execution_count": 14,
   "metadata": {},
   "outputs": [
    {
     "data": {
      "text/plain": [
       "<Job (id=215618 name=core_task)>"
      ]
     },
     "execution_count": 14,
     "metadata": {},
     "output_type": "execute_result"
    }
   ],
   "source": [
    "scheduler.add_job(core_task, 'date', run_date=str(launch_time + dt.timedelta(minutes=100080)), id=str(row['id']))"
   ]
  },
  {
   "cell_type": "code",
   "execution_count": 15,
   "metadata": {},
   "outputs": [
    {
     "name": "stdout",
     "output_type": "stream",
     "text": [
      "Pending jobs:\n",
      "    your_task (trigger: date[2024-06-27 09:37:00 +07], pending)\n",
      "    core_task (trigger: date[2024-06-27 09:37:00 +07], pending)\n"
     ]
    }
   ],
   "source": [
    "scheduler.print_jobs()"
   ]
  },
  {
   "cell_type": "code",
   "execution_count": null,
   "metadata": {},
   "outputs": [],
   "source": []
  }
 ],
 "metadata": {
  "kernelspec": {
   "display_name": ".venv",
   "language": "python",
   "name": "python3"
  },
  "language_info": {
   "codemirror_mode": {
    "name": "ipython",
    "version": 3
   },
   "file_extension": ".py",
   "mimetype": "text/x-python",
   "name": "python",
   "nbconvert_exporter": "python",
   "pygments_lexer": "ipython3",
   "version": "3.10.13"
  }
 },
 "nbformat": 4,
 "nbformat_minor": 2
}
