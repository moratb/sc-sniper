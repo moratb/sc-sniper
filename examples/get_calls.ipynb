{
 "cells": [
  {
   "cell_type": "code",
   "execution_count": 1,
   "metadata": {},
   "outputs": [],
   "source": [
    "import time as t\n",
    "import datetime as dt\n",
    "import pandas as pd"
   ]
  },
  {
   "cell_type": "code",
   "execution_count": 2,
   "metadata": {},
   "outputs": [],
   "source": [
    "telegram_api_id = '2560748'\n",
    "telegram_api_hash = 'f5ac2f0ae5f1374ee38f80e7c553f53f'\n",
    "telegram_phone_number = '+8562099257429'\n",
    "pass2fa = 'password'\n",
    "from telethon import TelegramClient, events"
   ]
  },
  {
   "cell_type": "code",
   "execution_count": 3,
   "metadata": {},
   "outputs": [],
   "source": [
    "client = TelegramClient(session=None,\n",
    "                        api_id=telegram_api_id,\n",
    "                        auto_reconnect=True,\n",
    "                        api_hash=telegram_api_hash)"
   ]
  },
  {
   "cell_type": "code",
   "execution_count": 4,
   "metadata": {},
   "outputs": [
    {
     "name": "stderr",
     "output_type": "stream",
     "text": [
      "Attempt 1 at connecting failed: TimeoutError: \n"
     ]
    },
    {
     "name": "stdout",
     "output_type": "stream",
     "text": [
      "Signed in successfully as Jack Ma; remember to not break the ToS or you will risk an account ban!\n"
     ]
    },
    {
     "data": {
      "text/plain": [
       "<telethon.client.telegramclient.TelegramClient at 0x11ee114b0>"
      ]
     },
     "execution_count": 4,
     "metadata": {},
     "output_type": "execute_result"
    }
   ],
   "source": [
    "await client.start(phone=telegram_phone_number, password=pass2fa)"
   ]
  },
  {
   "cell_type": "code",
   "execution_count": 5,
   "metadata": {},
   "outputs": [
    {
     "name": "stdout",
     "output_type": "stream",
     "text": [
      "Telegram has ID 777000\n",
      "Solana New Liquidity Pools has ID -1002039712427\n",
      "Solana Scanner has ID -1002023951506\n",
      "Gambles 🎲 MadApes has ID -1001758611100\n",
      "Degen Seals has ID -1001523523939\n",
      "Marat Gudkov has ID 178008364\n",
      "Jack Ma has ID 1223950100\n",
      "Yield Board has ID -1001628892345\n"
     ]
    }
   ],
   "source": [
    "async for dialog in client.iter_dialogs():\n",
    "    print(dialog.name, 'has ID', dialog.id)"
   ]
  },
  {
   "cell_type": "code",
   "execution_count": 6,
   "metadata": {},
   "outputs": [],
   "source": [
    "lp_chat = -1002039712427"
   ]
  },
  {
   "cell_type": "code",
   "execution_count": 41,
   "metadata": {},
   "outputs": [],
   "source": [
    "\n",
    "## Rewrite to read last message\n",
    "message =  await client.get_messages(lp_chat, limit=1)\n",
    "message = pd.DataFrame({'messages':message})\n",
    "message['id'] = message['messages'].apply(lambda x:x.id)\n",
    "message['date'] = message['messages'].apply(lambda x:x.date)\n",
    "message['text'] = message['messages'].apply(lambda x:x.text)\n",
    "message['date'] = pd.to_datetime(message['date'])\n",
    "message['date'] = message['date'].dt.tz_localize(None)\n",
    "\n",
    "pattern = r'`([1-9A-HJ-NP-Za-km-z]{32,44})`'\n",
    "message['address'] = message['text'].str.extract(pattern)\n",
    "message['ltime'] = message['text'].str.extract(r'(?<=Launch:\\*\\* )(.*)')\n",
    "message['ltime2'] = message['text'].str.extract(r'(?<=Trading Start Time:\\*\\* )(.*)')\n",
    "message['Mcap'] = message['text'].str.extract(r'(?<=Mcap:\\*\\* )(.*)')\n",
    "message['Mcap2'] = message['text'].str.extract(r'(?<=Marketcap:\\*\\* )(.*)')\n",
    "message['Liq'] = message['text'].str.extract(r'(?<=Liq:\\*\\* )(.*)')\n",
    "message['Liq2'] = message['text'].str.extract(r'(?<=Liquidity:\\*\\* )(.*)')\n",
    "message['s_mm'] = message['text'].str.extract(r'(?<=Mutable Metadata: )(.*)')\n",
    "message['s_ma'] = message['text'].str.extract(r'(?<=Mint Authority: )(.*)')\n",
    "message['s_fa'] = message['text'].str.extract(r'(?<=Freeze Authority: )(.*)')\n",
    "message['s_s'] = message['text'].str.extract(r'(?<=Score: )(.*)')"
   ]
  },
  {
   "cell_type": "code",
   "execution_count": 42,
   "metadata": {},
   "outputs": [],
   "source": [
    "message['ltime'] = message['ltime'].combine_first(message['ltime2']).str.strip('`')\n",
    "message['Mcap'] = message['Mcap'].combine_first(message['Mcap2']).str.strip('`')\n",
    "message['Liq'] = message['Liq'].combine_first(message['Liq2']).str.strip('`')\n",
    "message.loc[message['s_mm'].str.contains('Yes'), 's_mm2'] = True\n",
    "message.loc[message['s_mm'].str.contains('No'), 's_mm2'] = False\n",
    "message.loc[message['s_ma'].str.contains('Yes'), 's_ma2'] = True\n",
    "message.loc[message['s_ma'].str.contains('No'), 's_ma2'] = False\n",
    "message.loc[message['s_fa'].str.contains('Yes'), 's_fa2'] = True\n",
    "message.loc[message['s_fa'].str.contains('No'), 's_fa2'] = False\n",
    "message.loc[message['s_s'].str.contains('Bad'), 's_q'] = 0\n",
    "message.loc[message['s_s'].str.contains('Neutral'), 's_q'] = 1\n",
    "message.loc[message['s_s'].str.contains('Good'), 's_q'] = 2\n",
    "message['s_sni'] = message['s_s'].str.extract(r'([0-9]+)')\n",
    "message['s_sni'] = message['s_sni'].fillna(0)\n",
    "\n",
    "mult = {'K':1e3,'M':1e6,'B':1e9,'T':1e12}\n",
    "message['Mcap'] = message['Mcap'].str.strip('[$\\*]')\n",
    "message['Mcap_num'] = message['Mcap'].str.extract('([0-9\\.]+)').astype(float) * message['Mcap'].str.extract('([A-Z])').replace(mult).fillna(1)\n",
    "message['Liq'] = message['Liq'].str.strip(r\" \\[.*\\]\")\n",
    "message['Liq_num'] = message['Liq'].str.extract('([0-9\\.]+)').astype(float) * message['Liq'].str.extract('([A-Z])').replace(mult).fillna(1)\n",
    "message = message.drop(columns=['ltime2','Mcap2','Liq2','s_mm','s_ma','s_fa','s_s','Mcap','Liq','text'])\n",
    "message[['s_q','Mcap_num','Liq_num']] = message[['s_q','Mcap_num','Liq_num']].astype(int)"
   ]
  },
  {
   "cell_type": "code",
   "execution_count": 43,
   "metadata": {},
   "outputs": [
    {
     "data": {
      "text/html": [
       "<div>\n",
       "<style scoped>\n",
       "    .dataframe tbody tr th:only-of-type {\n",
       "        vertical-align: middle;\n",
       "    }\n",
       "\n",
       "    .dataframe tbody tr th {\n",
       "        vertical-align: top;\n",
       "    }\n",
       "\n",
       "    .dataframe thead th {\n",
       "        text-align: right;\n",
       "    }\n",
       "</style>\n",
       "<table border=\"1\" class=\"dataframe\">\n",
       "  <thead>\n",
       "    <tr style=\"text-align: right;\">\n",
       "      <th></th>\n",
       "      <th>messages</th>\n",
       "      <th>id</th>\n",
       "      <th>date</th>\n",
       "      <th>address</th>\n",
       "      <th>ltime</th>\n",
       "      <th>s_mm2</th>\n",
       "      <th>s_ma2</th>\n",
       "      <th>s_fa2</th>\n",
       "      <th>s_q</th>\n",
       "      <th>s_sni</th>\n",
       "      <th>Mcap_num</th>\n",
       "      <th>Liq_num</th>\n",
       "    </tr>\n",
       "  </thead>\n",
       "  <tbody>\n",
       "    <tr>\n",
       "      <th>0</th>\n",
       "      <td>Message(id=215028, peer_id=PeerChannel(channel...</td>\n",
       "      <td>215028</td>\n",
       "      <td>2024-04-18 01:00:20</td>\n",
       "      <td>8EkFW8K4cqYmtxzqL3m5n44hzF1QMUwjACkH3Go57N11</td>\n",
       "      <td>9 seconds ago</td>\n",
       "      <td>False</td>\n",
       "      <td>False</td>\n",
       "      <td>False</td>\n",
       "      <td>2</td>\n",
       "      <td>0</td>\n",
       "      <td>723</td>\n",
       "      <td>1320</td>\n",
       "    </tr>\n",
       "  </tbody>\n",
       "</table>\n",
       "</div>"
      ],
      "text/plain": [
       "                                            messages      id   \n",
       "0  Message(id=215028, peer_id=PeerChannel(channel...  215028  \\\n",
       "\n",
       "                 date                                       address   \n",
       "0 2024-04-18 01:00:20  8EkFW8K4cqYmtxzqL3m5n44hzF1QMUwjACkH3Go57N11  \\\n",
       "\n",
       "           ltime  s_mm2  s_ma2  s_fa2  s_q  s_sni  Mcap_num  Liq_num  \n",
       "0  9 seconds ago  False  False  False    2      0       723     1320  "
      ]
     },
     "execution_count": 43,
     "metadata": {},
     "output_type": "execute_result"
    }
   ],
   "source": [
    "##write this to SQLite\n",
    "message"
   ]
  }
 ],
 "metadata": {
  "kernelspec": {
   "display_name": ".venv",
   "language": "python",
   "name": "python3"
  },
  "language_info": {
   "codemirror_mode": {
    "name": "ipython",
    "version": 3
   },
   "file_extension": ".py",
   "mimetype": "text/x-python",
   "name": "python",
   "nbconvert_exporter": "python",
   "pygments_lexer": "ipython3",
   "version": "3.10.13"
  }
 },
 "nbformat": 4,
 "nbformat_minor": 2
}
